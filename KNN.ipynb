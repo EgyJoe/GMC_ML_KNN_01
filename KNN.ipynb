{
 "cells": [
  {
   "cell_type": "code",
   "execution_count": 1,
   "metadata": {},
   "outputs": [
    {
     "ename": "ValueError",
     "evalue": "I/O operation on closed file.",
     "output_type": "error",
     "traceback": [
      "\u001b[1;31m---------------------------------------------------------------------------\u001b[0m",
      "\u001b[1;31mValueError\u001b[0m                                Traceback (most recent call last)",
      "\u001b[1;32md:\\Joe\\Python\\Github\\GMC_ML_KNN_01\\KNN.ipynb Cell 1'\u001b[0m in \u001b[0;36m<module>\u001b[1;34m\u001b[0m\n\u001b[0;32m      <a href='vscode-notebook-cell:/d%3A/Joe/Python/Github/GMC_ML_KNN_01/KNN.ipynb#ch0000000?line=1'>2</a>\u001b[0m \u001b[39mwith\u001b[39;00m \u001b[39mopen\u001b[39m(\u001b[39m'\u001b[39m\u001b[39miris.csv\u001b[39m\u001b[39m'\u001b[39m, \u001b[39m'\u001b[39m\u001b[39mr\u001b[39m\u001b[39m'\u001b[39m) \u001b[39mas\u001b[39;00m csvfile:\n\u001b[0;32m      <a href='vscode-notebook-cell:/d%3A/Joe/Python/Github/GMC_ML_KNN_01/KNN.ipynb#ch0000000?line=2'>3</a>\u001b[0m     lines \u001b[39m=\u001b[39m csv\u001b[39m.\u001b[39mreader(csvfile)\n\u001b[1;32m----> <a href='vscode-notebook-cell:/d%3A/Joe/Python/Github/GMC_ML_KNN_01/KNN.ipynb#ch0000000?line=3'>4</a>\u001b[0m \u001b[39mfor\u001b[39;00m row \u001b[39min\u001b[39;00m lines :\n\u001b[0;32m      <a href='vscode-notebook-cell:/d%3A/Joe/Python/Github/GMC_ML_KNN_01/KNN.ipynb#ch0000000?line=4'>5</a>\u001b[0m     \u001b[39mprint\u001b[39m (\u001b[39m'\u001b[39m\u001b[39m, \u001b[39m\u001b[39m'\u001b[39m\u001b[39m.\u001b[39mjoin(row))\n",
      "\u001b[1;31mValueError\u001b[0m: I/O operation on closed file."
     ]
    }
   ],
   "source": [
    "import csv\n",
    "\n",
    "with open('iris.csv', 'r') as csvfile:\n",
    "    lines = csv.reader(csvfile)\n",
    "for row in lines :\n",
    "    print (', '.join(row))"
   ]
  }
 ],
 "metadata": {
  "interpreter": {
   "hash": "1310b17f8e2ecc2ea3962c4496a8c078565a380e982691bd0668cf9ede6f3102"
  },
  "kernelspec": {
   "display_name": "Python 3.10.2 64-bit",
   "language": "python",
   "name": "python3"
  },
  "language_info": {
   "codemirror_mode": {
    "name": "ipython",
    "version": 3
   },
   "file_extension": ".py",
   "mimetype": "text/x-python",
   "name": "python",
   "nbconvert_exporter": "python",
   "pygments_lexer": "ipython3",
   "version": "3.10.2"
  },
  "orig_nbformat": 4
 },
 "nbformat": 4,
 "nbformat_minor": 2
}
